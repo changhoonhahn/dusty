{
 "cells": [
  {
   "cell_type": "markdown",
   "id": "a46fe36a",
   "metadata": {},
   "source": [
    "# posteriors for $z=0.4$ case"
   ]
  },
  {
   "cell_type": "code",
   "execution_count": 1,
   "id": "e0525d77",
   "metadata": {},
   "outputs": [],
   "source": [
    "import os\n",
    "import numpy as np\n",
    "from scipy.stats import uniform"
   ]
  },
  {
   "cell_type": "code",
   "execution_count": 2,
   "id": "cac442c8",
   "metadata": {},
   "outputs": [
    {
     "name": "stderr",
     "output_type": "stream",
     "text": [
      "/home/chhahn/projects/provabgs/src/provabgs/models.py:23: UserWarning: import error with fsps; only use emulators\n",
      "  warnings.warn('import error with fsps; only use emulators')\n"
     ]
    }
   ],
   "source": [
    "from provabgs import infer as Infer\n",
    "from provabgs import models as Models"
   ]
  },
  {
   "cell_type": "code",
   "execution_count": 3,
   "id": "af53ea59",
   "metadata": {},
   "outputs": [],
   "source": [
    "from dusty import util as U\n",
    "from dusty import data as D"
   ]
  },
  {
   "cell_type": "code",
   "execution_count": 4,
   "id": "7fc62f3c",
   "metadata": {},
   "outputs": [],
   "source": [
    "import pocomc as pc"
   ]
  },
  {
   "cell_type": "code",
   "execution_count": 5,
   "id": "416c1b35",
   "metadata": {},
   "outputs": [],
   "source": [
    "import corner as DFM\n",
    "# --- plotting ---\n",
    "import matplotlib as mpl\n",
    "import matplotlib.pyplot as plt\n",
    "mpl.rcParams['text.usetex'] = True\n",
    "mpl.rcParams['font.family'] = 'serif'\n",
    "mpl.rcParams['axes.linewidth'] = 1.5\n",
    "mpl.rcParams['axes.xmargin'] = 1\n",
    "mpl.rcParams['xtick.labelsize'] = 'x-large'\n",
    "mpl.rcParams['xtick.major.size'] = 5\n",
    "mpl.rcParams['xtick.major.width'] = 1.5\n",
    "mpl.rcParams['ytick.labelsize'] = 'x-large'\n",
    "mpl.rcParams['ytick.major.size'] = 5\n",
    "mpl.rcParams['ytick.major.width'] = 1.5\n",
    "mpl.rcParams['legend.frameon'] = False\n",
    "%matplotlib inline"
   ]
  },
  {
   "cell_type": "code",
   "execution_count": 6,
   "id": "c37af1da",
   "metadata": {},
   "outputs": [],
   "source": [
    "igal = 64\n",
    "iang = 0 \n",
    "ised = 10*igal + iang"
   ]
  },
  {
   "cell_type": "code",
   "execution_count": 7,
   "id": "f79c0461",
   "metadata": {},
   "outputs": [],
   "source": [
    "filters = U.lsst()"
   ]
  },
  {
   "cell_type": "code",
   "execution_count": 8,
   "id": "f82d0094",
   "metadata": {},
   "outputs": [],
   "source": [
    "maggies = np.load('/scratch/gpfs/chhahn/dusty/nihao_lsst.v3.z0p4.maggies_nodust.npy')\n",
    "sig_maggies = np.load('/scratch/gpfs/chhahn/dusty/nihao_lsst.v3.z0p4.sig_maggies_nodust.npy')"
   ]
  },
  {
   "cell_type": "code",
   "execution_count": 9,
   "id": "1f717516",
   "metadata": {},
   "outputs": [
    {
     "name": "stdout",
     "output_type": "stream",
     "text": [
      "input parameters : logmstar, beta1_sfh, beta2_sfh, beta3_sfh, beta4_sfh, fburst, tburst, gamma1_zh, gamma2_zh, dust1, dust2, dust_index\n"
     ]
    }
   ],
   "source": [
    "# sps model \n",
    "m_nmf = Models.NMF(burst=True, emulator=True)\n",
    "\n",
    "prior = pc.Prior([uniform(loc=7, scale=6),\n",
    "                  uniform(loc=0., scale=1.),\n",
    "                  uniform(loc=0., scale=1.),\n",
    "                  uniform(loc=0., scale=1.),\n",
    "                  uniform(loc=0., scale=1.),\n",
    "                  uniform(loc=1e-2, scale=13.26),\n",
    "                  uniform(loc=np.log10(4.5e-5), scale=np.log10(1.5e-2) - np.log10(4.5e-5)),\n",
    "                  uniform(loc=np.log10(4.5e-5), scale=np.log10(1.5e-2) - np.log10(4.5e-5)),\n",
    "                  uniform(loc=0.01, scale=0.59)])\n",
    "\n",
    "provabgs_prior = Infer.load_priors([\n",
    "    Infer.UniformPrior(7., 13, label='sed'),\n",
    "    Infer.FlatDirichletPrior(4, label='sed'),   # flat dirichilet priors\n",
    "    Infer.UniformPrior(0., 1., label='sed'), # burst fraction\n",
    "    Infer.UniformPrior(1e-2, 13.27, label='sed'), # tburst\n",
    "    Infer.LogUniformPrior(4.5e-5, 1.5e-2, label='sed'), # log uniform priors on ZH coeff\n",
    "    Infer.LogUniformPrior(4.5e-5, 1.5e-2, label='sed') # log uniform priors on ZH coeff\n",
    "])"
   ]
  },
  {
   "cell_type": "code",
   "execution_count": 11,
   "id": "cd16d710",
   "metadata": {},
   "outputs": [],
   "source": [
    "def log_likelihood(tt):\n",
    "    photos = model_photo(tt)\n",
    "    # data - model(theta) for photometry\n",
    "    dphoto = (photos - maggies[ised])\n",
    "\n",
    "    # calculate chi-squared for photometry\n",
    "    chi2 = (-0.5 * np.sum(dphoto**2 / sig_maggies[ised]**2, axis=1))\n",
    "    return chi2\n",
    "\n",
    "def model_photo(tt): \n",
    "    _theta = tt.copy()[:,:-1]\n",
    "    _theta[:,6] = 10**_theta[:,6]\n",
    "    _theta[:,7] = 10**_theta[:,7]\n",
    "    __theta = provabgs_prior.transform(_theta)\n",
    "    theta = np.concatenate([__theta, np.tile(np.array([0., 0., -0.7]), (tt.shape[0],1))], axis=1)\n",
    "\n",
    "    # calculate SED model(theta)\n",
    "    photos = []\n",
    "    for _tt, _z in zip(theta, tt[:,-1]):    \n",
    "        _, _, photo = m_nmf.sed(_tt, _z, filters=filters)\n",
    "        photos.append(photo)\n",
    "\n",
    "    return np.array(photos)"
   ]
  },
  {
   "cell_type": "code",
   "execution_count": 12,
   "id": "c18d702c",
   "metadata": {},
   "outputs": [
    {
     "name": "stdout",
     "output_type": "stream",
     "text": [
      "[[0.01450663 0.02141963 0.03294841 0.0369143  0.03893399 0.0422877 ]]\n"
     ]
    }
   ],
   "source": [
    "_tt = prior.rvs()\n",
    "print(model_photo(_tt))"
   ]
  },
  {
   "cell_type": "code",
   "execution_count": 13,
   "id": "a2fcd8f4",
   "metadata": {},
   "outputs": [],
   "source": [
    "# Initialise sampler\n",
    "sampler = pc.Sampler(\n",
    "    prior=prior,\n",
    "    likelihood=log_likelihood,\n",
    "    vectorize=True,\n",
    "    random_state=0\n",
    ")"
   ]
  },
  {
   "cell_type": "code",
   "execution_count": 14,
   "id": "9d53dd5d",
   "metadata": {},
   "outputs": [
    {
     "name": "stderr",
     "output_type": "stream",
     "text": [
      "Iter: 44it [22:26, 30.61s/it, beta=1, calls=71168, ESS=4079, logZ=-21.5, logP=-9.17, acc=0.284, steps=4, eff=1]         \n"
     ]
    }
   ],
   "source": [
    "# Start sampling\n",
    "sampler.run(progress=True)"
   ]
  },
  {
   "cell_type": "code",
   "execution_count": 15,
   "id": "1d79088c",
   "metadata": {},
   "outputs": [],
   "source": [
    "# Get the results\n",
    "samples, weights, logl, logp = sampler.posterior()"
   ]
  },
  {
   "cell_type": "code",
   "execution_count": 16,
   "id": "ff678067",
   "metadata": {},
   "outputs": [
    {
     "data": {
      "text/plain": [
       "array([11.50837287, 11.50837287, 11.54127716, ..., 11.50759477,\n",
       "       11.4881117 , 11.50788608])"
      ]
     },
     "execution_count": 16,
     "metadata": {},
     "output_type": "execute_result"
    }
   ],
   "source": [
    "samples[:,0]"
   ]
  },
  {
   "cell_type": "code",
   "execution_count": 17,
   "id": "4fa6c1c8",
   "metadata": {},
   "outputs": [],
   "source": [
    "i_map = np.argmax(logl)\n",
    "\n",
    "m_photo = model_photo(np.array([samples[i_map]]))"
   ]
  },
  {
   "cell_type": "code",
   "execution_count": 18,
   "id": "2c7c23e6",
   "metadata": {},
   "outputs": [
    {
     "name": "stderr",
     "output_type": "stream",
     "text": [
      "/tmp/ipykernel_3305601/763645331.py:8: UserWarning: No artists with labels found to put in legend.  Note that artists whose label start with an underscore are ignored when legend() is called with no argument.\n",
      "  sub.legend(loc='lower right', handletextpad=0.1, fontsize=18)\n"
     ]
    },
    {
     "data": {
      "image/png": "[encoded data removed]",
      "text/plain": [
       "<Figure size 600x400 with 1 Axes>"
      ]
     },
     "metadata": {},
     "output_type": "display_data"
    }
   ],
   "source": [
    "fig = plt.figure(figsize=(6,4))\n",
    "sub = fig.add_subplot(111)\n",
    "\n",
    "sub.errorbar(np.arange(6), maggies[ised], yerr=sig_maggies[ised], fmt='.k', markersize=10)\n",
    "sub.scatter(np.arange(6), m_photo, color='C1', marker='s')\n",
    "\n",
    "sub.text(0.05, 0.95, 'NIHAO %i' % igal, transform=sub.transAxes, ha='left', va='top', fontsize=20)\n",
    "sub.legend(loc='lower right', handletextpad=0.1, fontsize=18)\n",
    "sub.set_xlim(-0.5, 5.5)\n",
    "sub.set_xticks(np.arange(6))\n",
    "sub.set_xticklabels(['u', 'g', 'r', 'i', 'z', 'y'])\n",
    "sub.tick_params(axis='x', which='major', labelsize=20)\n",
    "sub.set_ylabel('maggies', fontsize=20)\n",
    "sub.set_yscale('log')"
   ]
  },
  {
   "cell_type": "code",
   "execution_count": 19,
   "id": "799752d7",
   "metadata": {},
   "outputs": [
    {
     "data": {
      "image/png": "[encoded data removed]",
      "text/plain": [
       "<Figure size 550x550 with 4 Axes>"
      ]
     },
     "metadata": {},
     "output_type": "display_data"
    }
   ],
   "source": [
    "fig = DFM.corner(np.array([samples[:,0], samples[:,-1]]).T, weights=weights, levels=[0.68, 0.95])"
   ]
  },
  {
   "cell_type": "code",
   "execution_count": 20,
   "id": "eb811a5d",
   "metadata": {},
   "outputs": [],
   "source": [
    "from dusty import data as D"
   ]
  },
  {
   "cell_type": "code",
   "execution_count": 21,
   "id": "1245d55c",
   "metadata": {},
   "outputs": [],
   "source": [
    "# get data\n",
    "NH = D.Nihao()"
   ]
  },
  {
   "cell_type": "code",
   "execution_count": 25,
   "id": "e1672357",
   "metadata": {},
   "outputs": [
    {
     "data": {
      "text/plain": [
       "np.float32(11.505486)"
      ]
     },
     "execution_count": 25,
     "metadata": {},
     "output_type": "execute_result"
    }
   ],
   "source": [
    "np.log10(NH.prop['stellar_mass'][ised])"
   ]
  },
  {
   "cell_type": "code",
   "execution_count": null,
   "id": "ea62d64f",
   "metadata": {},
   "outputs": [],
   "source": []
  }
 ],
 "metadata": {
  "kernelspec": {
   "display_name": "gqp [~/.conda/envs/gqp/]",
   "language": "python",
   "name": "conda_gqp"
  },
  "language_info": {
   "codemirror_mode": {
    "name": "ipython",
    "version": 3
   },
   "file_extension": ".py",
   "mimetype": "text/x-python",
   "name": "python",
   "nbconvert_exporter": "python",
   "pygments_lexer": "ipython3",
   "version": "3.11.9"
  }
 },
 "nbformat": 4,
 "nbformat_minor": 5
}
